{
  "metadata": {
    "language_info": {
      "codemirror_mode": {
        "name": "python",
        "version": 3
      },
      "file_extension": ".py",
      "mimetype": "text/x-python",
      "name": "python",
      "nbconvert_exporter": "python",
      "pygments_lexer": "ipython3",
      "version": "3.8"
    },
    "kernelspec": {
      "name": "python",
      "display_name": "Python (Pyodide)",
      "language": "python"
    }
  },
  "nbformat_minor": 4,
  "nbformat": 4,
  "cells": [
    {
      "cell_type": "markdown",
      "source": "# Tools for Data Science",
      "metadata": {}
    },
    {
      "cell_type": "markdown",
      "source": "### In this course tools for data science were discussed",
      "metadata": {}
    },
    {
      "cell_type": "markdown",
      "source": "##### Data science languages\n1. python\n2. R\n3. php",
      "metadata": {}
    },
    {
      "cell_type": "markdown",
      "source": "##### Data science libraries\n1. apache spark\n2. numpy\n3. pandas",
      "metadata": {}
    },
    {
      "cell_type": "markdown",
      "source": "\n\n| Data Science tools | \n| -------------| \n| Anaconda | \n| Julia | \n| Jupyter Notebook | ",
      "metadata": {}
    },
    {
      "cell_type": "markdown",
      "source": "#### Examples of Arithmetic expressions",
      "metadata": {}
    },
    {
      "cell_type": "code",
      "source": "(3*8)+4+5",
      "metadata": {
        "trusted": true
      },
      "execution_count": 3,
      "outputs": [
        {
          "execution_count": 3,
          "output_type": "execute_result",
          "data": {
            "text/plain": "33"
          },
          "metadata": {}
        }
      ]
    },
    {
      "cell_type": "code",
      "source": "400/60",
      "metadata": {
        "trusted": true
      },
      "execution_count": 4,
      "outputs": [
        {
          "execution_count": 4,
          "output_type": "execute_result",
          "data": {
            "text/plain": "6.666666666666667"
          },
          "metadata": {}
        }
      ]
    },
    {
      "cell_type": "markdown",
      "source": "##### Unordered List\n- hello\n- my\n- name\n- is\n- saloni",
      "metadata": {}
    },
    {
      "cell_type": "markdown",
      "source": "##### Authors\n\n* Luciano Ramalho\n* Mark Lutz\n* Brett Slatkin",
      "metadata": {}
    },
    {
      "cell_type": "code",
      "source": "",
      "metadata": {},
      "execution_count": null,
      "outputs": []
    }
  ]
}